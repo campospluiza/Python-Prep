{
 "cells": [
  {
   "cell_type": "code",
   "execution_count": 1,
   "metadata": {},
   "outputs": [
    {
     "name": "stdout",
     "output_type": "stream",
     "text": [
      "['Buenos Aires', 'Belo Horizonte', 'Posadas', 'Paris', 'Genebra', 'Guanhaes']\n"
     ]
    }
   ],
   "source": [
    "lista_ciudades = ['Buenos Aires','Belo Horizonte','Posadas','Paris','Genebra','Guanhaes']\n",
    "print(lista_ciudades)"
   ]
  },
  {
   "cell_type": "code",
   "execution_count": 2,
   "metadata": {},
   "outputs": [
    {
     "name": "stdout",
     "output_type": "stream",
     "text": [
      "Belo Horizonte\n"
     ]
    }
   ],
   "source": [
    "print(lista_ciudades[1])"
   ]
  },
  {
   "cell_type": "code",
   "execution_count": 6,
   "metadata": {},
   "outputs": [
    {
     "name": "stdout",
     "output_type": "stream",
     "text": [
      "['Belo Horizonte', 'Posadas', 'Paris']\n"
     ]
    }
   ],
   "source": [
    "print(lista_ciudades[1:4])"
   ]
  },
  {
   "cell_type": "code",
   "execution_count": 7,
   "metadata": {},
   "outputs": [
    {
     "name": "stdout",
     "output_type": "stream",
     "text": [
      "<class 'list'>\n"
     ]
    }
   ],
   "source": [
    "print(type(lista_ciudades))"
   ]
  },
  {
   "cell_type": "code",
   "execution_count": 8,
   "metadata": {},
   "outputs": [
    {
     "name": "stdout",
     "output_type": "stream",
     "text": [
      "['Posadas', 'Paris', 'Genebra', 'Guanhaes']\n"
     ]
    }
   ],
   "source": [
    "print(lista_ciudades[2:])"
   ]
  },
  {
   "cell_type": "code",
   "execution_count": 16,
   "metadata": {},
   "outputs": [
    {
     "name": "stdout",
     "output_type": "stream",
     "text": [
      "['Buenos Aires', 'Belo Horizonte', 'Posadas', 'Paris']\n"
     ]
    }
   ],
   "source": [
    "print(lista_ciudades[:4])"
   ]
  },
  {
   "cell_type": "code",
   "execution_count": 17,
   "metadata": {},
   "outputs": [],
   "source": [
    "lista_ciudades.append('Uberlandia')"
   ]
  },
  {
   "cell_type": "code",
   "execution_count": 18,
   "metadata": {},
   "outputs": [],
   "source": [
    "lista_ciudades.append('Paris')"
   ]
  },
  {
   "cell_type": "code",
   "execution_count": 19,
   "metadata": {},
   "outputs": [
    {
     "name": "stdout",
     "output_type": "stream",
     "text": [
      "['Buenos Aires', 'Belo Horizonte', 'Posadas', 'Paris', 'Genebra', 'Guanhaes', 'Parana', 'Paris', 'Paris', 'Paris', 'Paris', 'Uberlandia', 'Paris']\n"
     ]
    }
   ],
   "source": [
    "print(lista_ciudades)"
   ]
  },
  {
   "cell_type": "code",
   "execution_count": 20,
   "metadata": {},
   "outputs": [],
   "source": [
    "lista_ciudades.insert(3, 'Sabinopolis')"
   ]
  },
  {
   "cell_type": "code",
   "execution_count": 22,
   "metadata": {},
   "outputs": [],
   "source": [
    "lista_ciudades.extend(['Apostoles', 'Eldorado', 'El soberbio'])"
   ]
  },
  {
   "cell_type": "code",
   "execution_count": 23,
   "metadata": {},
   "outputs": [
    {
     "name": "stdout",
     "output_type": "stream",
     "text": [
      "4\n"
     ]
    }
   ],
   "source": [
    "print(lista_ciudades.index('Paris'))"
   ]
  },
  {
   "cell_type": "code",
   "execution_count": 25,
   "metadata": {},
   "outputs": [
    {
     "ename": "ValueError",
     "evalue": "'Berlin' is not in list",
     "output_type": "error",
     "traceback": [
      "\u001b[1;31m---------------------------------------------------------------------------\u001b[0m",
      "\u001b[1;31mValueError\u001b[0m                                Traceback (most recent call last)",
      "Cell \u001b[1;32mIn[25], line 1\u001b[0m\n\u001b[1;32m----> 1\u001b[0m \u001b[39mprint\u001b[39m(lista_ciudades\u001b[39m.\u001b[39;49mindex(\u001b[39m'\u001b[39;49m\u001b[39mBerlin\u001b[39;49m\u001b[39m'\u001b[39;49m))\n",
      "\u001b[1;31mValueError\u001b[0m: 'Berlin' is not in list"
     ]
    }
   ],
   "source": [
    "print(lista_ciudades.index('Berlin'))"
   ]
  },
  {
   "cell_type": "code",
   "execution_count": 26,
   "metadata": {},
   "outputs": [],
   "source": [
    "lista_ciudades.remove('Genebra')"
   ]
  },
  {
   "cell_type": "code",
   "execution_count": 27,
   "metadata": {},
   "outputs": [
    {
     "name": "stdout",
     "output_type": "stream",
     "text": [
      "El soberbio\n"
     ]
    }
   ],
   "source": [
    "ultimo_elemento = lista_ciudades.pop()\n",
    "print(ultimo_elemento)"
   ]
  },
  {
   "cell_type": "code",
   "execution_count": 28,
   "metadata": {},
   "outputs": [
    {
     "name": "stdout",
     "output_type": "stream",
     "text": [
      "['Buenos Aires', 'Belo Horizonte', 'Posadas', 'Sabinopolis', 'Paris', 'Guanhaes', 'Parana', 'Paris', 'Paris', 'Paris', 'Paris', 'Uberlandia', 'Paris', 'Apostoles', 'Eldorado', 'Buenos Aires', 'Belo Horizonte', 'Posadas', 'Sabinopolis', 'Paris', 'Guanhaes', 'Parana', 'Paris', 'Paris', 'Paris', 'Paris', 'Uberlandia', 'Paris', 'Apostoles', 'Eldorado', 'Buenos Aires', 'Belo Horizonte', 'Posadas', 'Sabinopolis', 'Paris', 'Guanhaes', 'Parana', 'Paris', 'Paris', 'Paris', 'Paris', 'Uberlandia', 'Paris', 'Apostoles', 'Eldorado', 'Buenos Aires', 'Belo Horizonte', 'Posadas', 'Sabinopolis', 'Paris', 'Guanhaes', 'Parana', 'Paris', 'Paris', 'Paris', 'Paris', 'Uberlandia', 'Paris', 'Apostoles', 'Eldorado']\n"
     ]
    }
   ],
   "source": [
    "print(lista_ciudades * 4)"
   ]
  },
  {
   "cell_type": "code",
   "execution_count": 29,
   "metadata": {},
   "outputs": [
    {
     "name": "stdout",
     "output_type": "stream",
     "text": [
      "(1, 2, 3, 4, 5, 6, 7, 8, 9, 10, 11, 12, 13, 14, 15, 16, 17, 18, 19, 20)\n"
     ]
    }
   ],
   "source": [
    "tupla = (1, 2, 3, 4, 5, 6, 7, 8, 9, 10, 11, 12, 13, 14, 15, 16, 17, 18, 19, 20)\n",
    "print(tupla)"
   ]
  },
  {
   "cell_type": "code",
   "execution_count": 30,
   "metadata": {},
   "outputs": [
    {
     "data": {
      "text/plain": [
       "tuple"
      ]
     },
     "execution_count": 30,
     "metadata": {},
     "output_type": "execute_result"
    }
   ],
   "source": [
    "type(tupla)"
   ]
  },
  {
   "cell_type": "code",
   "execution_count": 32,
   "metadata": {},
   "outputs": [
    {
     "name": "stdout",
     "output_type": "stream",
     "text": [
      "(11, 12, 13, 14, 15, 16)\n"
     ]
    }
   ],
   "source": [
    "print(tupla[10:16])"
   ]
  },
  {
   "cell_type": "code",
   "execution_count": 33,
   "metadata": {},
   "outputs": [
    {
     "name": "stdout",
     "output_type": "stream",
     "text": [
      "True\n"
     ]
    }
   ],
   "source": [
    "print(20 in tupla)"
   ]
  },
  {
   "cell_type": "code",
   "execution_count": 34,
   "metadata": {},
   "outputs": [
    {
     "name": "stdout",
     "output_type": "stream",
     "text": [
      "False\n"
     ]
    }
   ],
   "source": [
    "print(30 in tupla)"
   ]
  },
  {
   "cell_type": "code",
   "execution_count": 36,
   "metadata": {},
   "outputs": [
    {
     "name": "stdout",
     "output_type": "stream",
     "text": [
      "Se agregó la ciudad Mar del Plata\n"
     ]
    }
   ],
   "source": [
    "elemento = 'Mar del Plata'\n",
    "if (not(elemento in lista_ciudades)):\n",
    "    lista_ciudades.append(elemento)\n",
    "    print('Se agregó la ciudad', elemento)\n",
    "\n",
    "else:\n",
    "    print('No fue necesario agregar, ya estaba {elemento} en la lista')"
   ]
  },
  {
   "cell_type": "code",
   "execution_count": 37,
   "metadata": {},
   "outputs": [
    {
     "name": "stdout",
     "output_type": "stream",
     "text": [
      "1\n",
      "6\n"
     ]
    }
   ],
   "source": [
    "print(tupla.count(5))\n",
    "print(lista_ciudades.count('Paris'))"
   ]
  },
  {
   "cell_type": "code",
   "execution_count": 38,
   "metadata": {},
   "outputs": [
    {
     "name": "stdout",
     "output_type": "stream",
     "text": [
      "[1, 2, 3, 4, 5, 6, 7, 8, 9, 10, 11, 12, 13, 14, 15, 16, 17, 18, 19, 20]\n"
     ]
    }
   ],
   "source": [
    "nueva_lista = list(tupla)\n",
    "print(nueva_lista)"
   ]
  },
  {
   "cell_type": "code",
   "execution_count": 39,
   "metadata": {},
   "outputs": [
    {
     "name": "stdout",
     "output_type": "stream",
     "text": [
      "1\n",
      "2\n",
      "3\n"
     ]
    }
   ],
   "source": [
    "a1, a2, a3, _, _, _, _, _, _, _, _, _, _, _, _, _, _, _, _, _ = tupla\n",
    "print(a1)\n",
    "print(a2)\n",
    "print(a3)"
   ]
  },
  {
   "cell_type": "code",
   "execution_count": 43,
   "metadata": {},
   "outputs": [
    {
     "name": "stdout",
     "output_type": "stream",
     "text": [
      "['Buenos Aires', 'Belo Horizonte', 'Posadas', 'Sabinopolis', 'Guanhaes', 'Parana', 'Paris', 'Uberlandia', 'Paris', 'Apostoles', 'Eldorado', 'Mar del Plata']\n"
     ]
    }
   ],
   "source": [
    "lista_ciudades.remove('Paris')\n",
    "print(lista_ciudades)"
   ]
  },
  {
   "cell_type": "code",
   "execution_count": 44,
   "metadata": {},
   "outputs": [],
   "source": [
    "diccionario = { 'Ciudades': lista_ciudades, 'Países' : ['Argentina', 'Brasil', 'Argentina', 'Brasil', 'Brasil', 'Argentina', 'França', 'Argentina', 'Argentina', 'Argentina'],\n",
    "'Continente': ['Sudamerica', 'Sudamerica', 'Sudamerica', 'Sudamerica', 'Sudamerica', 'Sudamerica', 'Europa', 'Sudamerica', 'Sudamerica', 'Sudamerica']}"
   ]
  },
  {
   "cell_type": "code",
   "execution_count": 45,
   "metadata": {},
   "outputs": [
    {
     "name": "stdout",
     "output_type": "stream",
     "text": [
      "{'Ciudades': ['Buenos Aires', 'Belo Horizonte', 'Posadas', 'Sabinopolis', 'Guanhaes', 'Parana', 'Paris', 'Uberlandia', 'Paris', 'Apostoles', 'Eldorado', 'Mar del Plata'], 'Países': ['Argentina', 'Brasil', 'Argentina', 'Brasil', 'Brasil', 'Argentina', 'França', 'Argentina', 'Argentina', 'Argentina'], 'Continente': ['Sudamerica', 'Sudamerica', 'Sudamerica', 'Sudamerica', 'Sudamerica', 'Sudamerica', 'Europa', 'Sudamerica', 'Sudamerica', 'Sudamerica']}\n"
     ]
    }
   ],
   "source": [
    "print(diccionario)"
   ]
  },
  {
   "cell_type": "code",
   "execution_count": 46,
   "metadata": {},
   "outputs": [
    {
     "name": "stdout",
     "output_type": "stream",
     "text": [
      "dict_keys(['Ciudades', 'Países', 'Continente'])\n"
     ]
    }
   ],
   "source": [
    "print(diccionario.keys())"
   ]
  },
  {
   "cell_type": "code",
   "execution_count": 49,
   "metadata": {},
   "outputs": [
    {
     "name": "stdout",
     "output_type": "stream",
     "text": [
      "['Buenos Aires', 'Belo Horizonte', 'Posadas', 'Sabinopolis', 'Guanhaes', 'Parana', 'Paris', 'Uberlandia', 'Paris', 'Apostoles', 'Eldorado', 'Mar del Plata']\n"
     ]
    }
   ],
   "source": [
    "print(diccionario['Ciudades'])"
   ]
  }
 ],
 "metadata": {
  "kernelspec": {
   "display_name": "Python 3",
   "language": "python",
   "name": "python3"
  },
  "language_info": {
   "codemirror_mode": {
    "name": "ipython",
    "version": 3
   },
   "file_extension": ".py",
   "mimetype": "text/x-python",
   "name": "python",
   "nbconvert_exporter": "python",
   "pygments_lexer": "ipython3",
   "version": "3.10.10"
  },
  "orig_nbformat": 4,
  "vscode": {
   "interpreter": {
    "hash": "47e86e659cc4c7e7c8281f4dfa198d26eba569ed7d4f5779d5419dff2bd0d92c"
   }
  }
 },
 "nbformat": 4,
 "nbformat_minor": 2
}
