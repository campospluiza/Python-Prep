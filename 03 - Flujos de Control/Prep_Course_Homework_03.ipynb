{
 "cells": [
  {
   "cell_type": "code",
   "execution_count": 6,
   "metadata": {},
   "outputs": [
    {
     "name": "stdout",
     "output_type": "stream",
     "text": [
      "5  es mayor a 0\n"
     ]
    }
   ],
   "source": [
    "n = 5\n",
    "if n > 0:\n",
    "    print(n, ' es mayor a 0')\n",
    "else:\n",
    "    print(n, 'es menor a o')"
   ]
  },
  {
   "cell_type": "code",
   "execution_count": 7,
   "metadata": {},
   "outputs": [
    {
     "name": "stdout",
     "output_type": "stream",
     "text": [
      "Estas variables tienen distintos tipos de datos\n"
     ]
    }
   ],
   "source": [
    "a = 'Hola Pili'   \n",
    "b = True \n",
    "\n",
    "if type(a) == type(b):\n",
    "    print('Estas variables almacenan el mismo tipo de datos')\n",
    "else:\n",
    "    print('Estas variables tienen distintos tipos de datos')"
   ]
  },
  {
   "cell_type": "code",
   "execution_count": 10,
   "metadata": {},
   "outputs": [
    {
     "name": "stdout",
     "output_type": "stream",
     "text": [
      "1  es impar\n",
      "2  es par\n",
      "3  es impar\n",
      "4  es par\n",
      "5  es impar\n",
      "6  es par\n",
      "7  es impar\n",
      "8  es par\n",
      "9  es impar\n",
      "10  es par\n",
      "11  es impar\n",
      "12  es par\n",
      "13  es impar\n",
      "14  es par\n",
      "15  es impar\n",
      "16  es par\n",
      "17  es impar\n",
      "18  es par\n",
      "19  es impar\n",
      "20  es par\n"
     ]
    }
   ],
   "source": [
    "n = 0\n",
    "for n in range(1,21):\n",
    "    if n % 2 == 0:\n",
    "        print(n, ' es par')\n",
    "    else:\n",
    "        print(n, ' es impar')"
   ]
  },
  {
   "cell_type": "code",
   "execution_count": 11,
   "metadata": {},
   "outputs": [
    {
     "name": "stdout",
     "output_type": "stream",
     "text": [
      "1\n",
      "8\n",
      "27\n",
      "64\n"
     ]
    }
   ],
   "source": [
    "n = 0\n",
    "for n in range(1,5):\n",
    "    print(n ** 3)"
   ]
  },
  {
   "cell_type": "code",
   "execution_count": 12,
   "metadata": {},
   "outputs": [],
   "source": [
    "n = 8\n",
    "j = 1\n",
    "for n in range(j, n):\n",
    "    continue"
   ]
  },
  {
   "cell_type": "code",
   "execution_count": 21,
   "metadata": {},
   "outputs": [
    {
     "name": "stdout",
     "output_type": "stream",
     "text": [
      "5\n",
      "20\n",
      "60\n",
      "120\n"
     ]
    },
    {
     "data": {
      "text/plain": [
       "120"
      ]
     },
     "execution_count": 21,
     "metadata": {},
     "output_type": "execute_result"
    }
   ],
   "source": [
    "numero = 5\n",
    "factorial = 1\n",
    "while(numero > 1):\n",
    "    factorial = numero * factorial\n",
    "    print(factorial)\n",
    "    numero = numero - 1\n",
    "\n",
    "factorial"
   ]
  },
  {
   "cell_type": "code",
   "execution_count": 2,
   "metadata": {},
   "outputs": [
    {
     "name": "stdout",
     "output_type": "stream",
     "text": [
      "Ciclo while nro 2\n",
      "Ciclo for nro 1\n",
      "Ciclo while nro 3\n",
      "Ciclo for nro 1\n",
      "Ciclo while nro 3\n",
      "Ciclo for nro 2\n",
      "Ciclo while nro 4\n",
      "Ciclo for nro 1\n",
      "Ciclo while nro 4\n",
      "Ciclo for nro 2\n",
      "Ciclo while nro 4\n",
      "Ciclo for nro 3\n",
      "Ciclo while nro 5\n",
      "Ciclo for nro 1\n",
      "Ciclo while nro 5\n",
      "Ciclo for nro 2\n",
      "Ciclo while nro 5\n",
      "Ciclo for nro 3\n",
      "Ciclo while nro 5\n",
      "Ciclo for nro 4\n"
     ]
    }
   ],
   "source": [
    "n = 0\n",
    "while(n < 5):\n",
    "    n += 1\n",
    "    for i in range(1,n):\n",
    "        print('Ciclo while nro ' + str(n))\n",
    "        print('Ciclo for nro ' + str(i))"
   ]
  },
  {
   "cell_type": "code",
   "execution_count": 9,
   "metadata": {},
   "outputs": [
    {
     "name": "stdout",
     "output_type": "stream",
     "text": [
      "0 es un numero par\n",
      "2 es un numero par\n",
      "4 es un numero par\n",
      "6 es un numero par\n",
      "8 es un numero par\n"
     ]
    }
   ],
   "source": [
    "for a in range(1,10):\n",
    "    while(a % 2 == 1):\n",
    "        a -= 1\n",
    "        print(a, 'es un numero par')"
   ]
  },
  {
   "cell_type": "code",
   "execution_count": 22,
   "metadata": {},
   "outputs": [
    {
     "name": "stdout",
     "output_type": "stream",
     "text": [
      "0 es numero primo\n",
      "1 es numero primo\n",
      "2 es numero primo\n",
      "3 es numero primo\n",
      "5 es numero primo\n",
      "7 es numero primo\n",
      "11 es numero primo\n",
      "13 es numero primo\n",
      "17 es numero primo\n",
      "19 es numero primo\n",
      "23 es numero primo\n",
      "29 es numero primo\n"
     ]
    }
   ],
   "source": [
    "tope = 30\n",
    "a = 0\n",
    "primo = True\n",
    "while (a < tope):\n",
    "    for divisor in range(2, a):\n",
    "        if (a % divisor == 0):\n",
    "            primo = False\n",
    "    if (primo):\n",
    "        print(a, 'es numero primo')\n",
    "    else:\n",
    "            primo = True\n",
    "    a += 1"
   ]
  },
  {
   "cell_type": "code",
   "execution_count": null,
   "metadata": {},
   "outputs": [],
   "source": []
  }
 ],
 "metadata": {
  "kernelspec": {
   "display_name": "Python 3",
   "language": "python",
   "name": "python3"
  },
  "language_info": {
   "codemirror_mode": {
    "name": "ipython",
    "version": 3
   },
   "file_extension": ".py",
   "mimetype": "text/x-python",
   "name": "python",
   "nbconvert_exporter": "python",
   "pygments_lexer": "ipython3",
   "version": "3.10.10"
  },
  "orig_nbformat": 4,
  "vscode": {
   "interpreter": {
    "hash": "47e86e659cc4c7e7c8281f4dfa198d26eba569ed7d4f5779d5419dff2bd0d92c"
   }
  }
 },
 "nbformat": 4,
 "nbformat_minor": 2
}
